{
 "cells": [
  {
   "cell_type": "code",
   "execution_count": 1,
   "id": "5221d719",
   "metadata": {},
   "outputs": [
    {
     "data": {
      "text/plain": [
       "'\\nCreated on Mon Aug 22 16:47:53 2022\\n\\n@author: Brandon Botzer - btb5103\\n\\nDAN 862 Fall 2022\\n\\nWeek 1 Homework 1\\n'"
      ]
     },
     "execution_count": 1,
     "metadata": {},
     "output_type": "execute_result"
    }
   ],
   "source": [
    "\"\"\"\n",
    "Created on Mon Aug 22 16:47:53 2022\n",
    "\n",
    "@author: Brandon Botzer - btb5103\n",
    "\n",
    "DAN 862 Fall 2022\n",
    "\n",
    "Week 1 Homework 1\n",
    "\"\"\""
   ]
  },
  {
   "cell_type": "code",
   "execution_count": 2,
   "id": "3fd5c185",
   "metadata": {},
   "outputs": [
    {
     "name": "stdout",
     "output_type": "stream",
     "text": [
      "Question 1: \n",
      "\n",
      "What are the unique values? (5pts)\n",
      "{64, 34, 14, 15, 55, 22, 87, 85, 57, 90}\n"
     ]
    }
   ],
   "source": [
    "#Question 1\n",
    "\n",
    "#Run the code provided to generate the list L1\n",
    "import numpy as np\n",
    "\n",
    "L1 = []\n",
    "\n",
    "np.random.seed(56)\n",
    "\n",
    "for i in np.random.randint(0, 100, 10):\n",
    "\n",
    "    L1.extend([i] * np.random.randint(0, 100, 1)[0])\n",
    "\n",
    "np.random.shuffle(L1)\n",
    "\n",
    "print(\"Question 1: \\n\")\n",
    "\n",
    "#What are the unique values? (5pts)\n",
    "print(\"What are the unique values? (5pts)\")\n",
    "\n",
    "#Generate the set of numbers\n",
    "L1_Unique = set(L1)\n",
    "#Print the set\n",
    "print(L1_Unique)"
   ]
  },
  {
   "cell_type": "code",
   "execution_count": 3,
   "id": "a3bdcbb8",
   "metadata": {},
   "outputs": [
    {
     "name": "stdout",
     "output_type": "stream",
     "text": [
      "How many unique values?  (5pts)\n",
      "10\n"
     ]
    }
   ],
   "source": [
    "#How many unique values?  (5pts)\n",
    "print(\"How many unique values?  (5pts)\")\n",
    "#Find the length of the L1_Unique set\n",
    "print(len(L1_Unique))\n"
   ]
  },
  {
   "cell_type": "code",
   "execution_count": 4,
   "id": "0dc4e55b",
   "metadata": {},
   "outputs": [
    {
     "name": "stdout",
     "output_type": "stream",
     "text": [
      "The Dictionary of the unique values and the number of times they appear:\n",
      "{64: 66, 34: 43, 14: 11, 15: 12, 55: 31, 22: 33, 87: 80, 85: 24, 57: 89, 90: 10}\n"
     ]
    }
   ],
   "source": [
    "#Create a dictionary with the unique items in L1 as dictionary keys\n",
    "#and their count as the dictionary values (20pts)\n",
    "\n",
    "#use the count for a list then make a dict\n",
    "\n",
    "#Make a list of the unique items so I can index them\n",
    "unique_List = list(L1_Unique)\n",
    "\n",
    "countsList = []\n",
    "\n",
    "#Iterate over this and zip the dicts together\n",
    "for i in range(0, len(unique_List)):\n",
    "    \n",
    "    #add the number of times a value appears into the count list\n",
    "    counts = L1.count(unique_List[i])\n",
    "\n",
    "    countsList.append(counts)   \n",
    "    \n",
    "#build a tuple by zipping the unique List and the number of times each unique\n",
    "#shows up\n",
    "\n",
    "zippedUp = zip(unique_List, countsList)\n",
    "\n",
    "unique_Dict = dict(zippedUp)\n",
    "\n",
    "print(\"The Dictionary of the unique values and the number of times they appear:\")\n",
    "print(str(unique_Dict))"
   ]
  },
  {
   "cell_type": "code",
   "execution_count": 5,
   "id": "eab3a1e3",
   "metadata": {},
   "outputs": [
    {
     "name": "stdout",
     "output_type": "stream",
     "text": [
      "The value which appears most frequently is: 57\n",
      "It appears a total of 89 times!\n"
     ]
    }
   ],
   "source": [
    "#Which values appears most freqeuntly?  Don't do this by hand... (10pts)\n",
    "\n",
    "#This could be done in one line but I show it here in 3 for clarity\n",
    "\n",
    "#Find the max appearances\n",
    "mostShows = max(countsList)\n",
    "\n",
    "#find the index of the most shows\n",
    "indmostShows = countsList.index(mostShows)\n",
    "\n",
    "#Use this index in the dict, list, tuple\n",
    "print(\"The value which appears most frequently is: \" + str(unique_List[indmostShows]))\n",
    "print(\"It appears a total of \" + str(mostShows) + \" times!\")"
   ]
  },
  {
   "cell_type": "code",
   "execution_count": 6,
   "id": "221e7a6d",
   "metadata": {},
   "outputs": [
    {
     "name": "stdout",
     "output_type": "stream",
     "text": [
      "\n",
      "\n",
      "\n",
      "Question 2: \n",
      "\n",
      "The sum of the even numbers in L2 is: 9418\n"
     ]
    }
   ],
   "source": [
    "print(\"\\n\\n\\nQuestion 2: \\n\")\n",
    "#Question 2\n",
    "\n",
    "\n",
    "L2 = [879, 394, 235, 580, 628, 81, 206, 238, 927, 853, 622, 603, 110, 143, 824, 324, 343, 506, 634, 325, 258, 900, 960, 286, 449, 890, 921, 170, 888, 851]\n",
    "\n",
    "#copied into L3 so I can use L2 again\n",
    "L3 = L2.copy()\n",
    "\n",
    "#Use a while loop to calculate the sum of the even numbers in L2 (10 pts)\n",
    "\n",
    "#Declare x to store the sum of the evens\n",
    "x = 0\n",
    "\n",
    "#While L2 does not equal an empty list\n",
    "while L3 != []:\n",
    "    y = L3.pop()\n",
    "    #Test the pop'd value for even\n",
    "    if y % 2 == 0:\n",
    "        #Add the pop'd value to the running total\n",
    "        x += y\n",
    "    \n",
    "print(\"The sum of the even numbers in L2 is: \" + str(x))"
   ]
  },
  {
   "cell_type": "code",
   "execution_count": 7,
   "id": "decbe8ee",
   "metadata": {},
   "outputs": [
    {
     "name": "stdout",
     "output_type": "stream",
     "text": [
      "The mean of L2 is: 534.2666666666667\n"
     ]
    }
   ],
   "source": [
    "#Write a function to caculate the mean of a list.  Use this function to\n",
    "#calculate the mean of L2 (10 pts)\n",
    "\n",
    "\n",
    "def meanMean(L):\n",
    "    \n",
    "    #Declare total\n",
    "    total = 0\n",
    "    \n",
    "    #Add up all of the elements\n",
    "    for i in range(0, len(L)):\n",
    "        total += L[i]\n",
    "             \n",
    "    #Divide the total by the number of elements\n",
    "    \n",
    "    result = total / len(L)\n",
    "    \n",
    "    return result\n",
    "\n",
    "#Print the answer with a call to meanMean()\n",
    "print(\"The mean of L2 is: \" + str(meanMean(L2)))"
   ]
  },
  {
   "cell_type": "code",
   "execution_count": 8,
   "id": "d46c78f1",
   "metadata": {},
   "outputs": [
    {
     "name": "stdout",
     "output_type": "stream",
     "text": [
      "The sum of the numbers larger than 500 in L2 is: 12466\n"
     ]
    }
   ],
   "source": [
    "#Calculate the sum for elements in L2 which ARE larger than 500 (10 pts)\n",
    "\n",
    "\n",
    "#copied into L3 so I can use L2 again\n",
    "L3 = L2.copy()\n",
    "\n",
    "#Declare x to store the sum of the evens\n",
    "x = 0\n",
    "\n",
    "#While L2 does not equal an empty list\n",
    "while L3 != []:\n",
    "    y = L3.pop()\n",
    "    #Test the pop'd value for even\n",
    "    if y > 500:\n",
    "        #Add the pop'd value to the running total\n",
    "        x += y\n",
    "    \n",
    "print(\"The sum of the numbers larger than 500 in L2 is: \" + str(x))"
   ]
  },
  {
   "cell_type": "code",
   "execution_count": 9,
   "id": "a1ba2888",
   "metadata": {},
   "outputs": [
    {
     "name": "stdout",
     "output_type": "stream",
     "text": [
      "\n",
      "\n",
      "\n",
      "Question 3: \n",
      "\n",
      "Two to the power of 10 is: 1024.0\n",
      "Three to the power of negative 3 is: 0.037037037037037035\n"
     ]
    }
   ],
   "source": [
    "print(\"\\n\\n\\nQuestion 3: \\n\")\n",
    "\n",
    "#Question 3\n",
    "\n",
    "#Write the power function.  Don't use **\n",
    "\n",
    "\n",
    "#There are two ways to do this.  If n is an integer, you can loop through\n",
    "#And multiply x by itself.  This requries you to check for 'n' being \n",
    "#an int as well as taking the absolute value of 'n' for the loop.  However,\n",
    "#you'll be unable to solve with non-integer values of 'n'\n",
    "\n",
    "#Instead, I will do this for n being any real value and use log rules\n",
    "#with numpy's exponent and log features (standard base is for ln)\n",
    "\n",
    "\n",
    "def botz_Pow(x, n):\n",
    "    \n",
    "    y = np.exp(n * np.log(x))    \n",
    "    \n",
    "    return y\n",
    "\n",
    "print(\"Two to the power of 10 is: \" + str(botz_Pow(2,10)))\n",
    "\n",
    "print(\"Three to the power of negative 3 is: \" + str(botz_Pow(3,-3)))"
   ]
  }
 ],
 "metadata": {
  "kernelspec": {
   "display_name": "Python 3",
   "language": "python",
   "name": "python3"
  },
  "language_info": {
   "codemirror_mode": {
    "name": "ipython",
    "version": 3
   },
   "file_extension": ".py",
   "mimetype": "text/x-python",
   "name": "python",
   "nbconvert_exporter": "python",
   "pygments_lexer": "ipython3",
   "version": "3.8.8"
  }
 },
 "nbformat": 4,
 "nbformat_minor": 5
}
